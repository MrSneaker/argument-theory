{
 "cells": [
  {
   "cell_type": "code",
   "execution_count": 393,
   "id": "initial_id",
   "metadata": {
    "ExecuteTime": {
     "end_time": "2024-04-18T12:23:16.655790600Z",
     "start_time": "2024-04-18T12:23:16.185786900Z"
    },
    "collapsed": true
   },
   "outputs": [
    {
     "name": "stdout",
     "output_type": "stream",
     "text": [
      "The autoreload extension is already loaded. To reload it, use:\n",
      "  %reload_ext autoreload\n"
     ]
    }
   ],
   "source": [
    "%load_ext autoreload\n",
    "%autoreload 2\n",
    "from helpers import *\n",
    "import itertools\n",
    "import pandas as pd\n",
    "from collections import Counter"
   ]
  },
  {
   "cell_type": "markdown",
   "id": "ca3f43db",
   "metadata": {},
   "source": [
    "Step 1 - 3: Find Contrapositions"
   ]
  },
  {
   "cell_type": "code",
   "execution_count": 394,
   "id": "dc6e759985191695",
   "metadata": {
    "ExecuteTime": {
     "end_time": "2024-04-18T12:23:16.803442800Z",
     "start_time": "2024-04-18T12:23:16.641779900Z"
    },
    "collapsed": false
   },
   "outputs": [
    {
     "name": "stdout",
     "output_type": "stream",
     "text": [
      "[r1]  -> c | [r2] d -> !b | [r3]  => a | [r4]  => b | [r5] a, b => !c | [r6] c => d | [r7] d => !a | [r8] !b => !r6\n",
      "\n",
      "Contrapositions for  [r1]  -> c\n",
      "\n",
      "\n",
      "Contrapositions for  [r2] d -> !b\n",
      "[r2_1] b -> !d\n"
     ]
    }
   ],
   "source": [
    "ruleset = getRuleset(\"lecture4\") # / lecture4\n",
    "print(\" | \".join([str(r) for r in ruleset]))\n",
    "add_Contrapositions(ruleset)"
   ]
  },
  {
   "cell_type": "markdown",
   "id": "8d583a38fbfcb99a",
   "metadata": {
    "collapsed": false
   },
   "source": [
    "Step 2 - 1: Generate Arguments"
   ]
  },
  {
   "cell_type": "code",
   "execution_count": 395,
   "id": "6da09cca05e19691",
   "metadata": {
    "ExecuteTime": {
     "end_time": "2024-04-18T12:23:16.925593700Z",
     "start_time": "2024-04-18T12:23:16.790439Z"
    },
    "collapsed": false
   },
   "outputs": [
    {
     "name": "stdout",
     "output_type": "stream",
     "text": [
      "base arg A1(r1):  -> c \n",
      "base arg A2(r3):  => a \n",
      "base arg A3(r4):  => b \n",
      " new arg A4(r5): A2,A3 => !c \n",
      " new arg A5(r6): A1 => d \n",
      " new arg A6(r7): A5 => !a \n",
      " new arg A7(r2_1): A3 -> !d \n",
      " new arg A8(r2): A5 -> !b \n",
      " new arg A9(r8): A8 => !r6 \n"
     ]
    }
   ],
   "source": [
    "arguments = generateArguments(ruleset)"
   ]
  },
  {
   "cell_type": "markdown",
   "id": "132d4beeac1d34a0",
   "metadata": {
    "collapsed": false
   },
   "source": [
    "(Last defeasible rules)"
   ]
  },
  {
   "cell_type": "code",
   "execution_count": 396,
   "id": "42de72427e34a81c",
   "metadata": {
    "ExecuteTime": {
     "end_time": "2024-04-18T12:23:17.061416600Z",
     "start_time": "2024-04-18T12:23:16.913588600Z"
    },
    "collapsed": false
   },
   "outputs": [
    {
     "name": "stdout",
     "output_type": "stream",
     "text": [
      "A1(r1):  -> c  : \n",
      "A2(r3):  => a  : [r3]  => a\n",
      "A3(r4):  => b  : [r4]  => b\n",
      "A4(r5): A2,A3 => !c  : [r5] a, b => !c\n",
      "A5(r6): A1 => d  : [r6] c => d\n",
      "A6(r7): A5 => !a  : [r7] d => !a\n",
      "A7(r2_1): A3 -> !d  : [r4]  => b\n",
      "A8(r2): A5 -> !b  : [r6] c => d\n",
      "A9(r8): A8 => !r6  : [r8] !b => !r6\n"
     ]
    }
   ],
   "source": [
    "for a in arguments:\n",
    "    #print(a)\n",
    "    print(str(a),\":\",\" | \".join([str(r) for r in a.getLastDefeasibleRules()]))"
   ]
  },
  {
   "cell_type": "code",
   "execution_count": 397,
   "id": "92e0f0a7d0b88473",
   "metadata": {
    "ExecuteTime": {
     "end_time": "2024-04-18T12:23:17.173976300Z",
     "start_time": "2024-04-18T12:23:17.055880600Z"
    },
    "collapsed": false
   },
   "outputs": [],
   "source": [
    "# for a in arguments:\n",
    "#     print(\"\\n\",a)\n",
    "#     for s in a.getSubArguments():\n",
    "#         print(str(s))"
   ]
  },
  {
   "cell_type": "markdown",
   "id": "d7e553ebd1f5ba68",
   "metadata": {
    "collapsed": false
   },
   "source": [
    "Step 2 - 2: set of all defeasible rules"
   ]
  },
  {
   "cell_type": "code",
   "execution_count": 398,
   "id": "1eb6ef1c8e85d388",
   "metadata": {
    "ExecuteTime": {
     "end_time": "2024-04-18T12:23:17.330729800Z",
     "start_time": "2024-04-18T12:23:17.175980Z"
    },
    "collapsed": false
   },
   "outputs": [
    {
     "name": "stdout",
     "output_type": "stream",
     "text": [
      "A4 DRs: r5 | r3 | r4 (3)\n"
     ]
    }
   ],
   "source": [
    "INDEX = 3\n",
    "drs = arguments[INDEX].getAllDefeasibleRules()\n",
    "print(f\"{arguments[INDEX].name} DRs: {' | '.join([x.name.name for x in drs])} ({len(drs)})\")"
   ]
  },
  {
   "cell_type": "markdown",
   "id": "90e94e3217b88093",
   "metadata": {
    "collapsed": false
   },
   "source": [
    "Step 2 - 3: set of last defeasible rules"
   ]
  },
  {
   "cell_type": "code",
   "execution_count": 399,
   "id": "4f9515273f9c7057",
   "metadata": {
    "ExecuteTime": {
     "end_time": "2024-04-18T12:23:17.468626700Z",
     "start_time": "2024-04-18T12:23:17.320732300Z"
    },
    "collapsed": false
   },
   "outputs": [
    {
     "name": "stdout",
     "output_type": "stream",
     "text": [
      "A6 LDRs: r7 (1)\n"
     ]
    }
   ],
   "source": [
    "INDEX = 5\n",
    "drs = arguments[INDEX].getLastDefeasibleRules()\n",
    "print(f\"{arguments[INDEX].name} LDRs: {' | '.join([x.name.name for x in drs])} ({len(drs)})\")"
   ]
  },
  {
   "cell_type": "markdown",
   "id": "ff0cd0143468bcee",
   "metadata": {
    "collapsed": false
   },
   "source": [
    "Step 2 - 4: set of all sub-arguments"
   ]
  },
  {
   "cell_type": "code",
   "execution_count": 400,
   "id": "a0b97efa695be4cb",
   "metadata": {
    "ExecuteTime": {
     "end_time": "2024-04-18T12:23:17.617204900Z",
     "start_time": "2024-04-18T12:23:17.470627300Z"
    },
    "collapsed": false
   },
   "outputs": [
    {
     "name": "stdout",
     "output_type": "stream",
     "text": [
      "A6 SAs: A5(r6): A1 => d  (1)\n"
     ]
    }
   ],
   "source": [
    "argumentsINDEX = 10\n",
    "subargs = arguments[INDEX].getSubArguments()\n",
    "print(f\"{arguments[INDEX].name} SAs: {' |  '.join([str(x) for x in subargs])} ({len(subargs)})\")"
   ]
  },
  {
   "cell_type": "markdown",
   "id": "fb275e32e5474e94",
   "metadata": {
    "collapsed": false
   },
   "source": [
    "Step 3 - 1: generate undercuts for a given set of arguments"
   ]
  },
  {
   "cell_type": "code",
   "execution_count": 401,
   "id": "5492647a8cffbd5d",
   "metadata": {
    "ExecuteTime": {
     "end_time": "2024-04-18T12:23:17.745954800Z",
     "start_time": "2024-04-18T12:23:17.607023400Z"
    },
    "collapsed": false
   },
   "outputs": [
    {
     "data": {
      "text/html": [
       "<div>\n",
       "<style scoped>\n",
       "    .dataframe tbody tr th:only-of-type {\n",
       "        vertical-align: middle;\n",
       "    }\n",
       "\n",
       "    .dataframe tbody tr th {\n",
       "        vertical-align: top;\n",
       "    }\n",
       "\n",
       "    .dataframe thead th {\n",
       "        text-align: right;\n",
       "    }\n",
       "</style>\n",
       "<table border=\"1\" class=\"dataframe\">\n",
       "  <thead>\n",
       "    <tr style=\"text-align: right;\">\n",
       "      <th></th>\n",
       "      <th>0</th>\n",
       "      <th>1</th>\n",
       "      <th>2</th>\n",
       "    </tr>\n",
       "  </thead>\n",
       "  <tbody>\n",
       "    <tr>\n",
       "      <th>0</th>\n",
       "      <td>A9(r8): A8 =&gt; !r6</td>\n",
       "      <td>--undercuts-&gt;</td>\n",
       "      <td>A5(r6): A1 =&gt; d</td>\n",
       "    </tr>\n",
       "    <tr>\n",
       "      <th>1</th>\n",
       "      <td>A9(r8): A8 =&gt; !r6</td>\n",
       "      <td>--undercuts-&gt;</td>\n",
       "      <td>A9(r8): A8 =&gt; !r6</td>\n",
       "    </tr>\n",
       "    <tr>\n",
       "      <th>2</th>\n",
       "      <td>A9(r8): A8 =&gt; !r6</td>\n",
       "      <td>--undercuts-&gt;</td>\n",
       "      <td>A8(r2): A5 -&gt; !b</td>\n",
       "    </tr>\n",
       "    <tr>\n",
       "      <th>3</th>\n",
       "      <td>A9(r8): A8 =&gt; !r6</td>\n",
       "      <td>--undercuts-&gt;</td>\n",
       "      <td>A6(r7): A5 =&gt; !a</td>\n",
       "    </tr>\n",
       "  </tbody>\n",
       "</table>\n",
       "</div>"
      ],
      "text/plain": [
       "                    0              1                   2\n",
       "0  A9(r8): A8 => !r6   --undercuts->    A5(r6): A1 => d \n",
       "1  A9(r8): A8 => !r6   --undercuts->  A9(r8): A8 => !r6 \n",
       "2  A9(r8): A8 => !r6   --undercuts->   A8(r2): A5 -> !b \n",
       "3  A9(r8): A8 => !r6   --undercuts->   A6(r7): A5 => !a "
      ]
     },
     "execution_count": 401,
     "metadata": {},
     "output_type": "execute_result"
    }
   ],
   "source": [
    "uas, uasUsable = generateUndercutAttacksV2(arguments)\n",
    "uas"
   ]
  },
  {
   "cell_type": "markdown",
   "id": "3633b0800d05d55",
   "metadata": {
    "collapsed": false
   },
   "source": [
    "Step 3 - 2: generate rebuts for a given set of arguments"
   ]
  },
  {
   "cell_type": "code",
   "execution_count": 402,
   "id": "cd885451433978f2",
   "metadata": {
    "ExecuteTime": {
     "end_time": "2024-04-18T12:23:17.949670800Z",
     "start_time": "2024-04-18T12:23:17.735935200Z"
    },
    "collapsed": false
   },
   "outputs": [
    {
     "data": {
      "text/html": [
       "<div>\n",
       "<style scoped>\n",
       "    .dataframe tbody tr th:only-of-type {\n",
       "        vertical-align: middle;\n",
       "    }\n",
       "\n",
       "    .dataframe tbody tr th {\n",
       "        vertical-align: top;\n",
       "    }\n",
       "\n",
       "    .dataframe thead th {\n",
       "        text-align: right;\n",
       "    }\n",
       "</style>\n",
       "<table border=\"1\" class=\"dataframe\">\n",
       "  <thead>\n",
       "    <tr style=\"text-align: right;\">\n",
       "      <th></th>\n",
       "      <th>0</th>\n",
       "      <th>1</th>\n",
       "      <th>2</th>\n",
       "      <th>3</th>\n",
       "      <th>4</th>\n",
       "    </tr>\n",
       "  </thead>\n",
       "  <tbody>\n",
       "    <tr>\n",
       "      <th>0</th>\n",
       "      <td>A1(r1):  -&gt; c</td>\n",
       "      <td>--rebuts-&gt;</td>\n",
       "      <td>A4(r5): A2,A3 =&gt; !c</td>\n",
       "      <td>on</td>\n",
       "      <td>A4(r5): A2,A3 =&gt; !c</td>\n",
       "    </tr>\n",
       "    <tr>\n",
       "      <th>1</th>\n",
       "      <td>A2(r3):  =&gt; a</td>\n",
       "      <td>--rebuts-&gt;</td>\n",
       "      <td>A6(r7): A5 =&gt; !a</td>\n",
       "      <td>on</td>\n",
       "      <td>A6(r7): A5 =&gt; !a</td>\n",
       "    </tr>\n",
       "    <tr>\n",
       "      <th>2</th>\n",
       "      <td>A3(r4):  =&gt; b</td>\n",
       "      <td>--rebuts-&gt;</td>\n",
       "      <td>A8(r2): A5 -&gt; !b</td>\n",
       "      <td>on</td>\n",
       "      <td>A8(r2): A5 -&gt; !b</td>\n",
       "    </tr>\n",
       "    <tr>\n",
       "      <th>3</th>\n",
       "      <td>A3(r4):  =&gt; b</td>\n",
       "      <td>--rebuts-&gt;</td>\n",
       "      <td>A9(r8): A8 =&gt; !r6</td>\n",
       "      <td>on</td>\n",
       "      <td>A8(r2): A5 -&gt; !b</td>\n",
       "    </tr>\n",
       "    <tr>\n",
       "      <th>4</th>\n",
       "      <td>A4(r5): A2,A3 =&gt; !c</td>\n",
       "      <td>--rebuts-&gt;</td>\n",
       "      <td>A1(r1):  -&gt; c</td>\n",
       "      <td>on</td>\n",
       "      <td>A1(r1):  -&gt; c</td>\n",
       "    </tr>\n",
       "    <tr>\n",
       "      <th>5</th>\n",
       "      <td>A4(r5): A2,A3 =&gt; !c</td>\n",
       "      <td>--rebuts-&gt;</td>\n",
       "      <td>A5(r6): A1 =&gt; d</td>\n",
       "      <td>on</td>\n",
       "      <td>A1(r1):  -&gt; c</td>\n",
       "    </tr>\n",
       "    <tr>\n",
       "      <th>6</th>\n",
       "      <td>A4(r5): A2,A3 =&gt; !c</td>\n",
       "      <td>--rebuts-&gt;</td>\n",
       "      <td>A6(r7): A5 =&gt; !a</td>\n",
       "      <td>on</td>\n",
       "      <td>A1(r1):  -&gt; c</td>\n",
       "    </tr>\n",
       "    <tr>\n",
       "      <th>7</th>\n",
       "      <td>A4(r5): A2,A3 =&gt; !c</td>\n",
       "      <td>--rebuts-&gt;</td>\n",
       "      <td>A8(r2): A5 -&gt; !b</td>\n",
       "      <td>on</td>\n",
       "      <td>A1(r1):  -&gt; c</td>\n",
       "    </tr>\n",
       "    <tr>\n",
       "      <th>8</th>\n",
       "      <td>A4(r5): A2,A3 =&gt; !c</td>\n",
       "      <td>--rebuts-&gt;</td>\n",
       "      <td>A9(r8): A8 =&gt; !r6</td>\n",
       "      <td>on</td>\n",
       "      <td>A1(r1):  -&gt; c</td>\n",
       "    </tr>\n",
       "    <tr>\n",
       "      <th>9</th>\n",
       "      <td>A5(r6): A1 =&gt; d</td>\n",
       "      <td>--rebuts-&gt;</td>\n",
       "      <td>A7(r2_1): A3 -&gt; !d</td>\n",
       "      <td>on</td>\n",
       "      <td>A7(r2_1): A3 -&gt; !d</td>\n",
       "    </tr>\n",
       "    <tr>\n",
       "      <th>10</th>\n",
       "      <td>A6(r7): A5 =&gt; !a</td>\n",
       "      <td>--rebuts-&gt;</td>\n",
       "      <td>A2(r3):  =&gt; a</td>\n",
       "      <td>on</td>\n",
       "      <td>A2(r3):  =&gt; a</td>\n",
       "    </tr>\n",
       "    <tr>\n",
       "      <th>11</th>\n",
       "      <td>A6(r7): A5 =&gt; !a</td>\n",
       "      <td>--rebuts-&gt;</td>\n",
       "      <td>A4(r5): A2,A3 =&gt; !c</td>\n",
       "      <td>on</td>\n",
       "      <td>A2(r3):  =&gt; a</td>\n",
       "    </tr>\n",
       "    <tr>\n",
       "      <th>12</th>\n",
       "      <td>A7(r2_1): A3 -&gt; !d</td>\n",
       "      <td>--rebuts-&gt;</td>\n",
       "      <td>A5(r6): A1 =&gt; d</td>\n",
       "      <td>on</td>\n",
       "      <td>A5(r6): A1 =&gt; d</td>\n",
       "    </tr>\n",
       "    <tr>\n",
       "      <th>13</th>\n",
       "      <td>A7(r2_1): A3 -&gt; !d</td>\n",
       "      <td>--rebuts-&gt;</td>\n",
       "      <td>A6(r7): A5 =&gt; !a</td>\n",
       "      <td>on</td>\n",
       "      <td>A5(r6): A1 =&gt; d</td>\n",
       "    </tr>\n",
       "    <tr>\n",
       "      <th>14</th>\n",
       "      <td>A7(r2_1): A3 -&gt; !d</td>\n",
       "      <td>--rebuts-&gt;</td>\n",
       "      <td>A8(r2): A5 -&gt; !b</td>\n",
       "      <td>on</td>\n",
       "      <td>A5(r6): A1 =&gt; d</td>\n",
       "    </tr>\n",
       "    <tr>\n",
       "      <th>15</th>\n",
       "      <td>A7(r2_1): A3 -&gt; !d</td>\n",
       "      <td>--rebuts-&gt;</td>\n",
       "      <td>A9(r8): A8 =&gt; !r6</td>\n",
       "      <td>on</td>\n",
       "      <td>A5(r6): A1 =&gt; d</td>\n",
       "    </tr>\n",
       "    <tr>\n",
       "      <th>16</th>\n",
       "      <td>A8(r2): A5 -&gt; !b</td>\n",
       "      <td>--rebuts-&gt;</td>\n",
       "      <td>A3(r4):  =&gt; b</td>\n",
       "      <td>on</td>\n",
       "      <td>A3(r4):  =&gt; b</td>\n",
       "    </tr>\n",
       "    <tr>\n",
       "      <th>17</th>\n",
       "      <td>A8(r2): A5 -&gt; !b</td>\n",
       "      <td>--rebuts-&gt;</td>\n",
       "      <td>A4(r5): A2,A3 =&gt; !c</td>\n",
       "      <td>on</td>\n",
       "      <td>A3(r4):  =&gt; b</td>\n",
       "    </tr>\n",
       "    <tr>\n",
       "      <th>18</th>\n",
       "      <td>A8(r2): A5 -&gt; !b</td>\n",
       "      <td>--rebuts-&gt;</td>\n",
       "      <td>A7(r2_1): A3 -&gt; !d</td>\n",
       "      <td>on</td>\n",
       "      <td>A3(r4):  =&gt; b</td>\n",
       "    </tr>\n",
       "  </tbody>\n",
       "</table>\n",
       "</div>"
      ],
      "text/plain": [
       "                       0           1                     2   3  \\\n",
       "0         A1(r1):  -> c   --rebuts->  A4(r5): A2,A3 => !c   on   \n",
       "1         A2(r3):  => a   --rebuts->     A6(r7): A5 => !a   on   \n",
       "2         A3(r4):  => b   --rebuts->     A8(r2): A5 -> !b   on   \n",
       "3         A3(r4):  => b   --rebuts->    A9(r8): A8 => !r6   on   \n",
       "4   A4(r5): A2,A3 => !c   --rebuts->        A1(r1):  -> c   on   \n",
       "5   A4(r5): A2,A3 => !c   --rebuts->      A5(r6): A1 => d   on   \n",
       "6   A4(r5): A2,A3 => !c   --rebuts->     A6(r7): A5 => !a   on   \n",
       "7   A4(r5): A2,A3 => !c   --rebuts->     A8(r2): A5 -> !b   on   \n",
       "8   A4(r5): A2,A3 => !c   --rebuts->    A9(r8): A8 => !r6   on   \n",
       "9       A5(r6): A1 => d   --rebuts->   A7(r2_1): A3 -> !d   on   \n",
       "10     A6(r7): A5 => !a   --rebuts->        A2(r3):  => a   on   \n",
       "11     A6(r7): A5 => !a   --rebuts->  A4(r5): A2,A3 => !c   on   \n",
       "12   A7(r2_1): A3 -> !d   --rebuts->      A5(r6): A1 => d   on   \n",
       "13   A7(r2_1): A3 -> !d   --rebuts->     A6(r7): A5 => !a   on   \n",
       "14   A7(r2_1): A3 -> !d   --rebuts->     A8(r2): A5 -> !b   on   \n",
       "15   A7(r2_1): A3 -> !d   --rebuts->    A9(r8): A8 => !r6   on   \n",
       "16     A8(r2): A5 -> !b   --rebuts->        A3(r4):  => b   on   \n",
       "17     A8(r2): A5 -> !b   --rebuts->  A4(r5): A2,A3 => !c   on   \n",
       "18     A8(r2): A5 -> !b   --rebuts->   A7(r2_1): A3 -> !d   on   \n",
       "\n",
       "                       4  \n",
       "0   A4(r5): A2,A3 => !c   \n",
       "1      A6(r7): A5 => !a   \n",
       "2      A8(r2): A5 -> !b   \n",
       "3      A8(r2): A5 -> !b   \n",
       "4         A1(r1):  -> c   \n",
       "5         A1(r1):  -> c   \n",
       "6         A1(r1):  -> c   \n",
       "7         A1(r1):  -> c   \n",
       "8         A1(r1):  -> c   \n",
       "9    A7(r2_1): A3 -> !d   \n",
       "10        A2(r3):  => a   \n",
       "11        A2(r3):  => a   \n",
       "12      A5(r6): A1 => d   \n",
       "13      A5(r6): A1 => d   \n",
       "14      A5(r6): A1 => d   \n",
       "15      A5(r6): A1 => d   \n",
       "16        A3(r4):  => b   \n",
       "17        A3(r4):  => b   \n",
       "18        A3(r4):  => b   "
      ]
     },
     "execution_count": 402,
     "metadata": {},
     "output_type": "execute_result"
    }
   ],
   "source": [
    "ras, rasUsable = generateRebutAttacks(arguments)\n",
    "ras"
   ]
  },
  {
   "cell_type": "markdown",
   "id": "464cc2ca",
   "metadata": {},
   "source": [
    "Step 4 - 1: generate preferences"
   ]
  },
  {
   "cell_type": "code",
   "execution_count": 403,
   "id": "34cc8f7a",
   "metadata": {
    "ExecuteTime": {
     "end_time": "2024-04-18T12:23:18.125277800Z",
     "start_time": "2024-04-18T12:23:17.878652100Z"
    }
   },
   "outputs": [
    {
     "name": "stdout",
     "output_type": "stream",
     "text": [
      "\n",
      "RANKING RESULT\n",
      "\n",
      "A1(r1):  -> c \n",
      "\n",
      "  \\/ preferred over \\/ \n",
      "\n",
      "A2(r3):  => a | A3(r4):  => b | A4(r5): A2,A3 => !c | A7(r2_1): A3 -> !d \n",
      "\n",
      "  \\/ preferred over \\/ \n",
      "\n",
      "A5(r6): A1 => d | A8(r2): A5 -> !b \n",
      "\n",
      "  \\/ preferred over \\/ \n",
      "\n",
      "A6(r7): A5 => !a \n",
      "\n",
      "  \\/ preferred over \\/ \n",
      "\n",
      "A9(r8): A8 => !r6 \n",
      "\n"
     ]
    }
   ],
   "source": [
    "# prefs = setPrefDict([\n",
    "#     [\"r4\", \"r6\"], # preferred over \\/\n",
    "#     [\"r2\", \"r7\", \"r8\", \"r9\"]\n",
    "# ])\n",
    "\n",
    "prefs = setPrefDict([\n",
    "    [\"r3\",\"r4\",\"r5\"],\n",
    "    [\"r6\"],\n",
    "    [\"r7\"],\n",
    "    [\"r8\"]\n",
    "])\n",
    "\n",
    "ranking = rankArguments(arguments,\n",
    "                        prefs,\n",
    "                        electionPrinciple=\"democratic\",\n",
    "                        linkPrinciple=\"lastlink\",\n",
    "                        print_steps=False)\n",
    "print_ranking(ranking)"
   ]
  },
  {
   "cell_type": "markdown",
   "id": "9c9969fac54d557f",
   "metadata": {
    "ExecuteTime": {
     "end_time": "2024-04-10T10:00:31.278840500Z",
     "start_time": "2024-04-10T10:00:31.183850700Z"
    },
    "collapsed": false
   },
   "source": [
    "### Step 4.3 - Generates all successful defeat"
   ]
  },
  {
   "cell_type": "code",
   "execution_count": 404,
   "id": "6689a045",
   "metadata": {
    "ExecuteTime": {
     "end_time": "2024-04-18T12:23:18.277453600Z",
     "start_time": "2024-04-18T12:23:18.025082600Z"
    }
   },
   "outputs": [
    {
     "name": "stdout",
     "output_type": "stream",
     "text": [
      "Defeats from Rebuts: 8, from Undercuts: 4, SUM: 12\n"
     ]
    }
   ],
   "source": [
    "ranking = rankArguments(arguments, prefs, \n",
    "                        electionPrinciple=\"democratic\",\n",
    "                        linkPrinciple=\"lastlink\",\n",
    "                        print_steps=False)\n",
    "\n",
    "\n",
    "successful_defeats = generateSuccessfulDefeats(arguments, ranking, prefs)\n",
    "\n",
    "# for defeat in successful_defeats:\n",
    "#     print('attacker: ', defeat[0])\n",
    "#     print('defendant: ', defeat[1])\n",
    "#     print('\\n')"
   ]
  },
  {
   "cell_type": "code",
   "execution_count": 405,
   "id": "eb9a783a20675023",
   "metadata": {
    "ExecuteTime": {
     "end_time": "2024-04-18T12:23:18.277453600Z",
     "start_time": "2024-04-18T12:23:18.190931600Z"
    },
    "collapsed": false
   },
   "outputs": [
    {
     "name": "stdout",
     "output_type": "stream",
     "text": [
      "attacker:  A3(r4):  => b \n",
      "defendant:  A8(r2): A5 -> !b \n",
      "\n",
      "\n",
      "attacker:  A3(r4):  => b \n",
      "defendant:  A9(r8): A8 => !r6 \n",
      "\n",
      "\n",
      "attacker:  A7(r2_1): A3 -> !d \n",
      "defendant:  A6(r7): A5 => !a \n",
      "\n",
      "\n",
      "attacker:  A7(r2_1): A3 -> !d \n",
      "defendant:  A5(r6): A1 => d \n",
      "\n",
      "\n",
      "attacker:  A9(r8): A8 => !r6 \n",
      "defendant:  A6(r7): A5 => !a \n",
      "\n",
      "\n",
      "attacker:  A1(r1):  -> c \n",
      "defendant:  A4(r5): A2,A3 => !c \n",
      "\n",
      "\n",
      "attacker:  A9(r8): A8 => !r6 \n",
      "defendant:  A9(r8): A8 => !r6 \n",
      "\n",
      "\n",
      "attacker:  A2(r3):  => a \n",
      "defendant:  A6(r7): A5 => !a \n",
      "\n",
      "\n",
      "attacker:  A9(r8): A8 => !r6 \n",
      "defendant:  A5(r6): A1 => d \n",
      "\n",
      "\n",
      "attacker:  A9(r8): A8 => !r6 \n",
      "defendant:  A8(r2): A5 -> !b \n",
      "\n",
      "\n",
      "attacker:  A7(r2_1): A3 -> !d \n",
      "defendant:  A8(r2): A5 -> !b \n",
      "\n",
      "\n",
      "attacker:  A7(r2_1): A3 -> !d \n",
      "defendant:  A9(r8): A8 => !r6 \n",
      "\n",
      "\n"
     ]
    }
   ],
   "source": [
    "for defeat in successful_defeats:\n",
    "    print('attacker: ', defeat[0])\n",
    "    print('defendant: ', defeat[1])\n",
    "    print('\\n')"
   ]
  },
  {
   "cell_type": "code",
   "execution_count": 406,
   "id": "0dbe7306",
   "metadata": {},
   "outputs": [
    {
     "name": "stdout",
     "output_type": "stream",
     "text": [
      "Defeats from Rebuts: 8, from Undercuts: 4, SUM: 12\n"
     ]
    },
    {
     "data": {
      "image/png": "[encoded data removed]",
      "text/plain": [
       "<Figure size 1000x500 with 1 Axes>"
      ]
     },
     "metadata": {},
     "output_type": "display_data"
    }
   ],
   "source": [
    "# POUR TP4 !!!\n",
    "\n",
    "diff = differenceDefeatAttack(arguments, ranking, prefs)\n",
    "\n",
    "plotDefeatByDegree(successful_defeats, True)"
   ]
  },
  {
   "cell_type": "code",
   "execution_count": 407,
   "id": "fc61cf37",
   "metadata": {},
   "outputs": [
    {
     "name": "stdout",
     "output_type": "stream",
     "text": [
      "Defeats from Rebuts: 8, from Undercuts: 4, SUM: 12\n"
     ]
    },
    {
     "ename": "TypeError",
     "evalue": "'Undercut' object is not iterable",
     "output_type": "error",
     "traceback": [
      "\u001b[0;31m---------------------------------------------------------------------------\u001b[0m",
      "\u001b[0;31mTypeError\u001b[0m                                 Traceback (most recent call last)",
      "Cell \u001b[0;32mIn[407], line 2\u001b[0m\n\u001b[1;32m      1\u001b[0m filteredAttacks \u001b[38;5;241m=\u001b[39m differenceDefeatAttack(arguments, ranking, prefs)\n\u001b[0;32m----> 2\u001b[0m filtered_attacks_display \u001b[38;5;241m=\u001b[39m  [\u001b[38;5;124m\"\u001b[39m\u001b[38;5;124m|\u001b[39m\u001b[38;5;124m\"\u001b[39m\u001b[38;5;241m.\u001b[39mjoin(\u001b[38;5;28mmap\u001b[39m(\u001b[38;5;28mstr\u001b[39m, attack)) \u001b[38;5;28;01mfor\u001b[39;00m attack \u001b[38;5;129;01min\u001b[39;00m filteredAttacks]\n",
      "Cell \u001b[0;32mIn[407], line 2\u001b[0m, in \u001b[0;36m<listcomp>\u001b[0;34m(.0)\u001b[0m\n\u001b[1;32m      1\u001b[0m filteredAttacks \u001b[38;5;241m=\u001b[39m differenceDefeatAttack(arguments, ranking, prefs)\n\u001b[0;32m----> 2\u001b[0m filtered_attacks_display \u001b[38;5;241m=\u001b[39m  [\u001b[38;5;124m\"\u001b[39m\u001b[38;5;124m|\u001b[39m\u001b[38;5;124m\"\u001b[39m\u001b[38;5;241m.\u001b[39mjoin(\u001b[38;5;28;43mmap\u001b[39;49m\u001b[43m(\u001b[49m\u001b[38;5;28;43mstr\u001b[39;49m\u001b[43m,\u001b[49m\u001b[43m \u001b[49m\u001b[43mattack\u001b[49m\u001b[43m)\u001b[49m) \u001b[38;5;28;01mfor\u001b[39;00m attack \u001b[38;5;129;01min\u001b[39;00m filteredAttacks]\n",
      "\u001b[0;31mTypeError\u001b[0m: 'Undercut' object is not iterable"
     ]
    }
   ],
   "source": [
    "filteredAttacks = differenceDefeatAttack(arguments, ranking, prefs)\n",
    "for filtered in filteredAttacks:\n",
    "    print(f\"filtered: {filtered}\")\n",
    "filtered_attacks_display =  [\"|\".join(map(str, attack)) for attack in filteredAttacks]"
   ]
  }
 ],
 "metadata": {
  "kernelspec": {
   "display_name": "Python 3",
   "language": "python",
   "name": "python3"
  },
  "language_info": {
   "codemirror_mode": {
    "name": "ipython",
    "version": 3
   },
   "file_extension": ".py",
   "mimetype": "text/x-python",
   "name": "python",
   "nbconvert_exporter": "python",
   "pygments_lexer": "ipython3",
   "version": "3.10.12"
  }
 },
 "nbformat": 4,
 "nbformat_minor": 5
}
